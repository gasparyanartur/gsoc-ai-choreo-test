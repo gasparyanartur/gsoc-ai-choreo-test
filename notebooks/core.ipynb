{
 "cells": [
  {
   "cell_type": "markdown",
   "metadata": {},
   "source": [
    "## Visualize Data"
   ]
  },
  {
   "cell_type": "code",
   "execution_count": 1,
   "metadata": {},
   "outputs": [
    {
     "name": "stdout",
     "output_type": "stream",
     "text": [
      "shape (55, 4866, 3)\n",
      "dtype float64\n",
      "max 1.9273922443389893\n",
      "min -6.332875728607178\n",
      "1q -1.006934016942978\n",
      "2q -0.4554957449436188\n",
      "3q -0.042966997250914574\n",
      "mean -0.6010307200624114\n",
      "std 0.8776853231783209\n"
     ]
    }
   ],
   "source": [
    "from pathlib import Path\n",
    "import numpy as np\n",
    "\n",
    "data_path = Path(\"data/mariel_chunli.npy\")\n",
    "data_raw = np.load(data_path)\n",
    "\n",
    "def inspect_data(data):\n",
    "    print(\"shape\", data.shape)\n",
    "    print(\"dtype\", data.dtype)\n",
    "    print(\"max\", data.max())\n",
    "    print(\"min\", data.min())\n",
    "    print(\"1q\", np.percentile(data, 25))\n",
    "    print(\"2q\", np.percentile(data, 50))\n",
    "    print(\"3q\", np.percentile(data, 75))\n",
    "    print(\"mean\", data.mean())\n",
    "    print(\"std\", data.std())\n",
    "\n",
    "inspect_data(data_raw)"
   ]
  },
  {
   "cell_type": "code",
   "execution_count": 2,
   "metadata": {},
   "outputs": [
    {
     "data": {
      "text/plain": [
       "(58, 2)"
      ]
     },
     "execution_count": 2,
     "metadata": {},
     "output_type": "execute_result"
    }
   ],
   "source": [
    "# Taken from https://github.com/mariel-pettee/choreo-graph/blob/main/functions/load_data.py\n",
    "\n",
    "ALL_POINT_LABELS = ['ARIEL', 'C7', 'CLAV', 'LANK', 'LBHD', 'LBSH', 'LBWT', 'LELB', 'LFHD', 'LFRM', 'LFSH', 'LFWT', 'LHEL', 'LIEL', 'LIHAND', 'LIWR', 'LKNE', 'LKNI', 'LMT1', 'LMT5', 'LOHAND', 'LOWR', 'LSHN', 'LTHI', 'LTOE', 'LUPA', 'LabelingHips', 'MBWT', 'MFWT', 'RANK', 'RBHD', 'RBSH', 'RBWT', 'RELB', 'RFHD', 'RFRM', 'RFSH', 'RFWT', 'RHEL', 'RIEL', 'RIHAND', 'RIWR', 'RKNE', 'RKNI', 'RMT1', 'RMT5', 'ROHAND', 'ROWR', 'RSHN', 'RTHI', 'RTOE', 'RUPA', 'STRN', 'SolvingHips', 'T10']    \n",
    "BAD_LABELS = ['SolvingHips', 'LabelingHips']\n",
    "POINT_LABELS = [label for label in ALL_POINT_LABELS if label not in BAD_LABELS]\n",
    "NUM_GROUPS = len(POINT_LABELS)\n",
    "\n",
    "skeleton_lines = [\n",
    "#     ( (start group), (end group) ),\n",
    "    ('LHEL', 'LTOE',), # toe to heel\n",
    "    ('RHEL', 'RTOE',),\n",
    "    ('LMT1', 'LMT5',), # horizontal line across foot\n",
    "    ('RMT1', 'RMT5',),   \n",
    "    ('LHEL', 'LMT1',), # heel to sides of feet\n",
    "    ('LHEL', 'LMT5',),\n",
    "    ('RHEL', 'RMT1',),\n",
    "    ('RHEL', 'RMT5',),\n",
    "    ('LTOE', 'LMT1',), # toe to sides of feet\n",
    "    ('LTOE', 'LMT5',),\n",
    "    ('RTOE', 'RMT1',),\n",
    "    ('RTOE', 'RMT5',),\n",
    "    ('LKNE', 'LHEL',), # heel to knee\n",
    "    ('RKNE', 'RHEL',),\n",
    "    ('LFWT', 'RBWT',), # connect pelvis\n",
    "    ('RFWT', 'LBWT',), \n",
    "    ('LFWT', 'RFWT',), \n",
    "    ('LBWT', 'RBWT',),\n",
    "    ('LFWT', 'LBWT',), \n",
    "    ('RFWT', 'RBWT',), \n",
    "    ('LFWT', 'LTHI',), # pelvis to thighs\n",
    "    ('RFWT', 'RTHI',), \n",
    "    ('LBWT', 'LTHI',), \n",
    "    ('RBWT', 'RTHI',), \n",
    "    ('LKNE', 'LTHI',), \n",
    "    ('RKNE', 'RTHI',), \n",
    "    ('CLAV', 'LFSH',), # clavicle to shoulders\n",
    "    ('CLAV', 'RFSH',), \n",
    "    ('STRN', 'LFSH',), # sternum & T10 (back sternum) to shoulders\n",
    "    ('STRN', 'RFSH',), \n",
    "    ('T10', 'LFSH',), \n",
    "    ('T10', 'RFSH',), \n",
    "    ('C7', 'LBSH',), # back clavicle to back shoulders\n",
    "    ('C7', 'RBSH',), \n",
    "    ('LFSH', 'LBSH',), # front shoulders to back shoulders\n",
    "    ('RFSH', 'RBSH',), \n",
    "    ('LFSH', 'RBSH',),\n",
    "    ('RFSH', 'LBSH',),\n",
    "    ('LFSH', 'LUPA',), # shoulders to upper arms\n",
    "    ('RFSH', 'RUPA',), \n",
    "    ('LBSH', 'LUPA',), \n",
    "    ('RBSH', 'RUPA',), \n",
    "    ('LIWR', 'LIHAND',), # wrist to hand\n",
    "    ('RIWR', 'RIHAND',),\n",
    "    ('LOWR', 'LOHAND',), \n",
    "    ('ROWR', 'ROHAND',),\n",
    "    ('LIWR', 'LOWR',), # across the wrist \n",
    "    ('RIWR', 'ROWR',), \n",
    "    ('LIHAND', 'LOHAND',), # across the palm \n",
    "    ('RIHAND', 'ROHAND',), \n",
    "    ('LFHD', 'LBHD',), # draw lines around circumference of the head\n",
    "    ('LBHD', 'RBHD',),\n",
    "    ('RBHD', 'RFHD',),\n",
    "    ('RFHD', 'LFHD',),\n",
    "    ('LFHD', 'ARIEL'), # connect circumference points to top of head\n",
    "    ('LBHD', 'ARIEL'),\n",
    "    ('RBHD', 'ARIEL'),\n",
    "    ('RFHD', 'ARIEL'),\n",
    "]\n",
    "\n",
    "POINT_IDXS = {label: i for i, label in enumerate(POINT_LABELS)}\n",
    "EDGES = [(POINT_IDXS[start], POINT_IDXS[end]) for start, end in skeleton_lines]\n",
    "EDGES = np.array(EDGES)\n",
    "EDGES.shape"
   ]
  },
  {
   "cell_type": "code",
   "execution_count": 3,
   "metadata": {},
   "outputs": [
    {
     "name": "stdout",
     "output_type": "stream",
     "text": [
      "betternot_and_retrograde 159\n",
      "beyond 97\n",
      "chunli 188\n",
      "honey 124\n",
      "knownbetter 284\n",
      "penelope 150\n"
     ]
    }
   ],
   "source": [
    "# For some reason, there are some frames that are the same as the previous frame\n",
    "\n",
    "START_IDX = {}\n",
    "\n",
    "for fn in [\"betternot_and_retrograde\", \"beyond\", \"chunli\", \"honey\", \"knownbetter\", \"penelope\"]:\n",
    "    p = Path(f\"data/mariel_{fn}.npy\")\n",
    "    data_i = np.load(p)\n",
    "    data_i = data_i.swapaxes(0, 1)\n",
    "    for i in range(1, data_i.shape[0]):\n",
    "        if (data_i[i] != data_i[i-1]).all():\n",
    "            print(fn, i)\n",
    "            START_IDX[fn] = i\n",
    "            break"
   ]
  },
  {
   "cell_type": "markdown",
   "metadata": {},
   "source": [
    "First dimension is the edge group.\n",
    "Second is the frames for a given clip.\n",
    "Third is the XYZ coordinates in 3D space. \n",
    "\n",
    "We know the edge groups from [Pettee's previous project](https://github.com/mariel-pettee/choreography/blob/master/functions/functions.py), and we also know that groups 27 and 54 are bad edge groups. \n",
    "\n",
    "We reshape and mask those out. Additionally, we preprocess the data to be in the range -1 to 1."
   ]
  },
  {
   "cell_type": "code",
   "execution_count": 4,
   "metadata": {},
   "outputs": [
    {
     "name": "stdout",
     "output_type": "stream",
     "text": [
      "shape (4866, 53, 3)\n",
      "dtype float64\n",
      "max 1.0\n",
      "min -1.0\n",
      "1q -0.2738534668068461\n",
      "2q 0.3330744535997223\n",
      "3q 0.5042046208517127\n",
      "mean 0.15681260326528199\n",
      "std 0.4136803405246239\n"
     ]
    }
   ],
   "source": [
    "def preprocess_data(data, normalize=True):\n",
    "    bad_groups = [i for i, group in enumerate(ALL_POINT_LABELS) if group in BAD_LABELS]\n",
    "    group_mask = np.ones(data.shape[0], dtype=bool)\n",
    "    group_mask[bad_groups] = False\n",
    "    data = data[group_mask]\n",
    "\n",
    "    data = data.swapaxes(0, 1)\n",
    "\n",
    "    if normalize:\n",
    "        min_val = data.min()\n",
    "        max_val = data.max()\n",
    "        data = (data - min_val) / (max_val - min_val) * 2 - 1\n",
    "\n",
    "    data[:, :,  2] *= -1        # invert z axis\n",
    "\n",
    "    return data\n",
    "\n",
    "data = preprocess_data(data_raw, normalize=True)\n",
    "inspect_data(data)"
   ]
  },
  {
   "cell_type": "code",
   "execution_count": 5,
   "metadata": {},
   "outputs": [],
   "source": [
    "%matplotlib QtAgg\n",
    "\n",
    "from matplotlib import pyplot as plt\n",
    "from matplotlib.animation import FuncAnimation\n",
    "from mpl_toolkits.mplot3d import Axes3D\n",
    "\n",
    "class FigureAnimation:\n",
    "    def __init__(self, data):\n",
    "        self.data = data\n",
    "\n",
    "        self.fig = plt.figure()\n",
    "        self.ax = self.fig.add_subplot(projection='3d')\n",
    "\n",
    "        self.ax.set_xlim(data[:, :, 0].min(), data[:, :, 0].max())\n",
    "        self.ax.set_ylim(data[:, :, 1].min(), data[:, :, 1].max())\n",
    "        self.ax.set_zlim(data[:, :, 2].min(), data[:, :, 2].max())\n",
    "\n",
    "        self.scatter_plot = None\n",
    "        self.lineplots = None\n",
    "\n",
    "    def start(self, start_frame: int = 0, end_frame: int = -1, framerate: int = 20):\n",
    "        if end_frame == -1:\n",
    "            end_frame = self.data.shape[0]\n",
    "\n",
    "        def setup():\n",
    "            snapshot = self.data[start_frame]\n",
    "            self.scatter_plot = self.ax.scatter(snapshot[:, 0], snapshot[:, 1], snapshot[:, 2])\n",
    "\n",
    "            start_edges, end_edges = EDGES[:, 0], EDGES[:, 1]\n",
    "            lines = np.stack([snapshot[start_edges], snapshot[end_edges]], axis=1)\n",
    "            \n",
    "            self.lineplots = [self.ax.plot(line[:, 0], line[:, 1], line[:, 2], color='black')[0] for line in lines]\n",
    "\n",
    "            return self.scatter_plot, *self.lineplots\n",
    "\n",
    "        def update(frame):\n",
    "            snapshot = self.data[int(frame)]\n",
    "            self.scatter_plot._offsets3d = (snapshot[:, 0], snapshot[:, 1], snapshot[:, 2])\n",
    "\n",
    "            start_edges, end_edges = EDGES[:, 0], EDGES[:, 1]\n",
    "            lines = np.stack([snapshot[start_edges], snapshot[end_edges]], axis=1)\n",
    "            for lineplot, line in zip(self.lineplots, lines):\n",
    "                lineplot.set_data(line[:, 0], line[:, 1])\n",
    "                lineplot.set_3d_properties(line[:, 2]) \n",
    "\n",
    "            self.fig.canvas.draw_idle()\n",
    "\n",
    "            if frame == end_frame - 1:\n",
    "                self.ani.event_source.stop()\n",
    "\n",
    "            return self.scatter_plot, *self.lineplots\n",
    "\n",
    "        self.ani = FuncAnimation(self.fig, update, init_func=setup, frames=range(start_frame, end_frame), interval=1000/framerate, blit=False, cache_frame_data=False)\n",
    "        self.fig.show()\n",
    "\n",
    "\n",
    "#fig_anim = FigureAnimation(data)\n",
    "#fig_anim.start(start_frame=150, framerate=35)"
   ]
  },
  {
   "cell_type": "code",
   "execution_count": 6,
   "metadata": {},
   "outputs": [
    {
     "data": {
      "text/plain": [
       "((4866, 53, 3), (968, 30, 53, 3))"
      ]
     },
     "execution_count": 6,
     "metadata": {},
     "output_type": "execute_result"
    }
   ],
   "source": [
    "def split_data(data, window_size, stride):\n",
    "    # data: (n_frames, n_points, 3)\n",
    "    n_frames = data.shape[0]\n",
    "    n_points = data.shape[1]\n",
    "    n_channels = data.shape[2]\n",
    "\n",
    "    n_windows = (n_frames - window_size) // stride + 1\n",
    "    windows = np.zeros((n_windows, window_size, n_points, n_channels))\n",
    "    \n",
    "    for i in range(n_windows):\n",
    "        start = i * stride\n",
    "        end = start + window_size\n",
    "        windows[i] = data[start:end]\n",
    "\n",
    "    return windows\n",
    "\n",
    "data.shape, split_data(data, window_size=30, stride=5).shape"
   ]
  },
  {
   "cell_type": "code",
   "execution_count": 7,
   "metadata": {},
   "outputs": [
    {
     "data": {
      "text/plain": [
       "(2148, 30, 53, 3)"
      ]
     },
     "execution_count": 7,
     "metadata": {},
     "output_type": "execute_result"
    }
   ],
   "source": [
    "def get_data_with_pattern(data_dir: Path, filenamn_pattern: str = \"mariel\", window_size: int = 30, stride: int = 5, normalize: bool = True):\n",
    "    all_data = []\n",
    "\n",
    "    for data_path in data_dir.glob(filenamn_pattern):\n",
    "        data_raw = np.load(data_path)\n",
    "        data = preprocess_data(data_raw, normalize=normalize)\n",
    "        \n",
    "        name = data_path.stem[len(\"mariel_\"):]\n",
    "        start_idx = START_IDX.get(name, 0)\n",
    "        data = data[start_idx:]\n",
    "\n",
    "        windows = split_data(data, window_size, stride)\n",
    "\n",
    "        all_data.append(windows)\n",
    "\n",
    "    all_data = np.concatenate(all_data, axis=0)\n",
    "    return all_data\n",
    "\n",
    "data_dir = Path(\"data\")\n",
    "all_data = get_data_with_pattern(data_dir, filenamn_pattern=\"mariel_better*\", window_size=30, stride=5, normalize=True)\n",
    "all_data.shape"
   ]
  },
  {
   "cell_type": "code",
   "execution_count": 8,
   "metadata": {},
   "outputs": [],
   "source": [
    "#fig_anim = FigureAnimation(all_data[3])\n",
    "#fig_anim.start(framerate=60)"
   ]
  },
  {
   "cell_type": "code",
   "execution_count": 9,
   "metadata": {},
   "outputs": [],
   "source": [
    "def rotate_around_z(data, radians: float):\n",
    "    rotation_matrix = np.array([\n",
    "        [np.cos(radians), -np.sin(radians), 0],\n",
    "        [np.sin(radians), np.cos(radians), 0],\n",
    "        [0, 0, 1]\n",
    "    ])\n",
    "\n",
    "    return np.einsum(\"ijk,kl->ijl\", data, rotation_matrix)\n",
    "\n",
    "\n",
    "rotated_data = rotate_around_z(all_data[3], np.pi/2)\n",
    "#fig_anim = FigureAnimation(rotated_data)\n",
    "#fig_anim.start(framerate=60)"
   ]
  },
  {
   "cell_type": "markdown",
   "metadata": {},
   "source": [
    "## Network"
   ]
  },
  {
   "cell_type": "code",
   "execution_count": 23,
   "metadata": {},
   "outputs": [],
   "source": [
    "import torch\n",
    "from torch import nn\n",
    "from torch.utils.data import Dataset\n",
    "from torch import Tensor"
   ]
  },
  {
   "cell_type": "code",
   "execution_count": 29,
   "metadata": {},
   "outputs": [],
   "source": [
    "def create_rotation_matrices(radians: Tensor, device) -> Tensor:\n",
    "    batch_size = radians.shape[0]\n",
    "    rotation_matrices = torch.zeros(batch_size, 3, 3, device=device)\n",
    "\n",
    "    rotation_matrices[:, 0, 0] = torch.cos(radians)\n",
    "    rotation_matrices[:, 0, 1] = -torch.sin(radians)\n",
    "    rotation_matrices[:, 1, 0] = torch.sin(radians)\n",
    "    rotation_matrices[:, 1, 1] = torch.cos(radians)\n",
    "    rotation_matrices[:, 2, 2] = 1\n",
    "\n",
    "    return rotation_matrices"
   ]
  },
  {
   "cell_type": "code",
   "execution_count": 30,
   "metadata": {},
   "outputs": [],
   "source": [
    "def batch_rotate_around_z(data: Tensor, radians: Tensor) -> Tensor:\n",
    "    assert data.shape[0] == radians.shape[0]\n",
    "\n",
    "    rotation_matrix = create_rotation_matrices(radians, data.device)\n",
    "    return torch.einsum(\"ijk,ikl->ijl\", data, rotation_matrix)\n",
    "\n",
    "\n",
    "class PoseDataset(Dataset):\n",
    "    def __init__(self, data: np.ndarray):\n",
    "        self.data = torch.tensor(data, dtype=torch.float32)\n",
    "        # Since we only care about poses, not sequences, we can flatten the first two dimensions\n",
    "        self.data = self.data.view(-1, *self.data.shape[2:])\n",
    "\n",
    "    def __len__(self):\n",
    "        return self.data.shape[0]\n",
    "\n",
    "    def __getitem__(self, idx):\n",
    "        sample = self.data[idx]\n",
    "        return sample"
   ]
  },
  {
   "cell_type": "code",
   "execution_count": 31,
   "metadata": {},
   "outputs": [],
   "source": [
    "# Pose Embedding\n",
    "\n",
    "from torch import nn\n",
    "\n",
    "class PoseEncoder(nn.Module):\n",
    "    def __init__(self, embedding_dim):\n",
    "        super().__init__()\n",
    "        \n",
    "        # Imput: (N, num_groups, 3)\n",
    "        # Output: (N, embedding_dim)\n",
    "\n",
    "        self.embedding = nn.Sequential(\n",
    "            nn.Linear(NUM_GROUPS * 3, 512),\n",
    "            nn.ReLU(),\n",
    "            nn.Linear(512, 256),\n",
    "            nn.ReLU(),\n",
    "            nn.Linear(256, embedding_dim)\n",
    "        )\n",
    "    \n",
    "    def forward(self, x):\n",
    "        x = x.view(-1, NUM_GROUPS * 3)\n",
    "        return self.embedding(x)\n",
    "\n",
    "\n",
    "class PoseDecoder(nn.Module):\n",
    "    def __init__(self, embedding_dim):\n",
    "        super().__init__()\n",
    "\n",
    "        # Imput: (N, embedding_dim)\n",
    "        # Output: (N, num_groups, 3)\n",
    "\n",
    "        self.decoder = nn.Sequential(\n",
    "            nn.Linear(embedding_dim, 256),\n",
    "            nn.ReLU(),\n",
    "            nn.Linear(256, 512),\n",
    "            nn.ReLU(),\n",
    "            nn.Linear(512, NUM_GROUPS * 3),\n",
    "            nn.Tanh()\n",
    "        )\n",
    "    \n",
    "    def forward(self, x):\n",
    "        x = self.decoder(x)\n",
    "        x = x.view(-1, NUM_GROUPS, 3)\n",
    "        return x\n",
    "\n",
    "class PoseAutoencoder(nn.Module):\n",
    "    def __init__(self, embedding_dim):\n",
    "        super().__init__()\n",
    "        self.encoder = PoseEncoder(embedding_dim)\n",
    "        self.decoder = PoseDecoder(embedding_dim)\n",
    "\n",
    "    def forward(self, x):\n",
    "        return self.decoder(self.encoder(x))\n"
   ]
  },
  {
   "cell_type": "code",
   "execution_count": 35,
   "metadata": {},
   "outputs": [
    {
     "name": "stderr",
     "output_type": "stream",
     "text": [
      "GPU available: True (cuda), used: True\n",
      "TPU available: False, using: 0 TPU cores\n",
      "HPU available: False, using: 0 HPUs\n",
      "LOCAL_RANK: 0 - CUDA_VISIBLE_DEVICES: [0]\n",
      "\n",
      "  | Name  | Type            | Params | Mode \n",
      "--------------------------------------------------\n",
      "0 | model | PoseAutoencoder | 459 K  | train\n",
      "--------------------------------------------------\n",
      "459 K     Trainable params\n",
      "0         Non-trainable params\n",
      "459 K     Total params\n",
      "1.838     Total estimated model params size (MB)\n",
      "16        Modules in train mode\n",
      "0         Modules in eval mode\n"
     ]
    },
    {
     "data": {
      "application/vnd.jupyter.widget-view+json": {
       "model_id": "0faa558393194f3bac2290ec1c2918b4",
       "version_major": 2,
       "version_minor": 0
      },
      "text/plain": [
       "Sanity Checking: |          | 0/? [00:00<?, ?it/s]"
      ]
     },
     "metadata": {},
     "output_type": "display_data"
    },
    {
     "name": "stderr",
     "output_type": "stream",
     "text": [
      "/home/gasparyanartur/dev/gsoc-ai-choreo-test/venv/lib/python3.12/site-packages/pytorch_lightning/trainer/connectors/data_connector.py:425: The 'val_dataloader' does not have many workers which may be a bottleneck. Consider increasing the value of the `num_workers` argument` to `num_workers=11` in the `DataLoader` to improve performance.\n"
     ]
    },
    {
     "data": {
      "application/vnd.jupyter.widget-view+json": {
       "model_id": "cac3eaadcd7a4d61aa568a829b25c349",
       "version_major": 2,
       "version_minor": 0
      },
      "text/plain": [
       "Training: |          | 0/? [00:00<?, ?it/s]"
      ]
     },
     "metadata": {},
     "output_type": "display_data"
    },
    {
     "data": {
      "application/vnd.jupyter.widget-view+json": {
       "model_id": "1ccddfb5445542358dc463fc90112a07",
       "version_major": 2,
       "version_minor": 0
      },
      "text/plain": [
       "Validation: |          | 0/? [00:00<?, ?it/s]"
      ]
     },
     "metadata": {},
     "output_type": "display_data"
    },
    {
     "data": {
      "application/vnd.jupyter.widget-view+json": {
       "model_id": "b7b7bb527e824a319226a6eed93ffa44",
       "version_major": 2,
       "version_minor": 0
      },
      "text/plain": [
       "Validation: |          | 0/? [00:00<?, ?it/s]"
      ]
     },
     "metadata": {},
     "output_type": "display_data"
    },
    {
     "data": {
      "application/vnd.jupyter.widget-view+json": {
       "model_id": "ea5bcce3a0bd40f7b50652be4ac0b679",
       "version_major": 2,
       "version_minor": 0
      },
      "text/plain": [
       "Validation: |          | 0/? [00:00<?, ?it/s]"
      ]
     },
     "metadata": {},
     "output_type": "display_data"
    },
    {
     "data": {
      "application/vnd.jupyter.widget-view+json": {
       "model_id": "e0d21b5d74414e4983bd57348fd261dc",
       "version_major": 2,
       "version_minor": 0
      },
      "text/plain": [
       "Validation: |          | 0/? [00:00<?, ?it/s]"
      ]
     },
     "metadata": {},
     "output_type": "display_data"
    },
    {
     "data": {
      "application/vnd.jupyter.widget-view+json": {
       "model_id": "2f429962fefb426baf6319c11899cb8f",
       "version_major": 2,
       "version_minor": 0
      },
      "text/plain": [
       "Validation: |          | 0/? [00:00<?, ?it/s]"
      ]
     },
     "metadata": {},
     "output_type": "display_data"
    },
    {
     "data": {
      "application/vnd.jupyter.widget-view+json": {
       "model_id": "9632a0b474cb4301b2dc00409b393141",
       "version_major": 2,
       "version_minor": 0
      },
      "text/plain": [
       "Validation: |          | 0/? [00:00<?, ?it/s]"
      ]
     },
     "metadata": {},
     "output_type": "display_data"
    },
    {
     "data": {
      "application/vnd.jupyter.widget-view+json": {
       "model_id": "8128e6c8fdc548b3bb9df731ca78b7c1",
       "version_major": 2,
       "version_minor": 0
      },
      "text/plain": [
       "Validation: |          | 0/? [00:00<?, ?it/s]"
      ]
     },
     "metadata": {},
     "output_type": "display_data"
    },
    {
     "data": {
      "application/vnd.jupyter.widget-view+json": {
       "model_id": "210f8bf434df4d77a11670d36e98957c",
       "version_major": 2,
       "version_minor": 0
      },
      "text/plain": [
       "Validation: |          | 0/? [00:00<?, ?it/s]"
      ]
     },
     "metadata": {},
     "output_type": "display_data"
    },
    {
     "data": {
      "application/vnd.jupyter.widget-view+json": {
       "model_id": "1dcf980227e043519b27b297cbda242b",
       "version_major": 2,
       "version_minor": 0
      },
      "text/plain": [
       "Validation: |          | 0/? [00:00<?, ?it/s]"
      ]
     },
     "metadata": {},
     "output_type": "display_data"
    },
    {
     "data": {
      "application/vnd.jupyter.widget-view+json": {
       "model_id": "ce2629066d6d4998889e37e8939feda6",
       "version_major": 2,
       "version_minor": 0
      },
      "text/plain": [
       "Validation: |          | 0/? [00:00<?, ?it/s]"
      ]
     },
     "metadata": {},
     "output_type": "display_data"
    },
    {
     "data": {
      "application/vnd.jupyter.widget-view+json": {
       "model_id": "eeb5252022a547878e3a06333d3e3b6a",
       "version_major": 2,
       "version_minor": 0
      },
      "text/plain": [
       "Validation: |          | 0/? [00:00<?, ?it/s]"
      ]
     },
     "metadata": {},
     "output_type": "display_data"
    },
    {
     "data": {
      "application/vnd.jupyter.widget-view+json": {
       "model_id": "80e5c19f8c9949928dfb951368855ff8",
       "version_major": 2,
       "version_minor": 0
      },
      "text/plain": [
       "Validation: |          | 0/? [00:00<?, ?it/s]"
      ]
     },
     "metadata": {},
     "output_type": "display_data"
    },
    {
     "data": {
      "application/vnd.jupyter.widget-view+json": {
       "model_id": "90d272f7f742485799ca844c9de2d82b",
       "version_major": 2,
       "version_minor": 0
      },
      "text/plain": [
       "Validation: |          | 0/? [00:00<?, ?it/s]"
      ]
     },
     "metadata": {},
     "output_type": "display_data"
    },
    {
     "data": {
      "application/vnd.jupyter.widget-view+json": {
       "model_id": "731ab1c0326046c8b6dfd9a84722406b",
       "version_major": 2,
       "version_minor": 0
      },
      "text/plain": [
       "Validation: |          | 0/? [00:00<?, ?it/s]"
      ]
     },
     "metadata": {},
     "output_type": "display_data"
    },
    {
     "data": {
      "application/vnd.jupyter.widget-view+json": {
       "model_id": "e5c97564cab0426489eac46ad79990d7",
       "version_major": 2,
       "version_minor": 0
      },
      "text/plain": [
       "Validation: |          | 0/? [00:00<?, ?it/s]"
      ]
     },
     "metadata": {},
     "output_type": "display_data"
    },
    {
     "data": {
      "application/vnd.jupyter.widget-view+json": {
       "model_id": "29c6af29f1be48bc9c83f4286abc50b8",
       "version_major": 2,
       "version_minor": 0
      },
      "text/plain": [
       "Validation: |          | 0/? [00:00<?, ?it/s]"
      ]
     },
     "metadata": {},
     "output_type": "display_data"
    },
    {
     "data": {
      "application/vnd.jupyter.widget-view+json": {
       "model_id": "29374d700c8f47f48114d6bb6215df83",
       "version_major": 2,
       "version_minor": 0
      },
      "text/plain": [
       "Validation: |          | 0/? [00:00<?, ?it/s]"
      ]
     },
     "metadata": {},
     "output_type": "display_data"
    },
    {
     "data": {
      "application/vnd.jupyter.widget-view+json": {
       "model_id": "9b47f8d8c294479eab3773535a6c3d2f",
       "version_major": 2,
       "version_minor": 0
      },
      "text/plain": [
       "Validation: |          | 0/? [00:00<?, ?it/s]"
      ]
     },
     "metadata": {},
     "output_type": "display_data"
    },
    {
     "data": {
      "application/vnd.jupyter.widget-view+json": {
       "model_id": "6e35d6eac5ac42259173421f2d10787a",
       "version_major": 2,
       "version_minor": 0
      },
      "text/plain": [
       "Validation: |          | 0/? [00:00<?, ?it/s]"
      ]
     },
     "metadata": {},
     "output_type": "display_data"
    },
    {
     "data": {
      "application/vnd.jupyter.widget-view+json": {
       "model_id": "a614ef2056ad447dbca05b4257472fa1",
       "version_major": 2,
       "version_minor": 0
      },
      "text/plain": [
       "Validation: |          | 0/? [00:00<?, ?it/s]"
      ]
     },
     "metadata": {},
     "output_type": "display_data"
    },
    {
     "data": {
      "application/vnd.jupyter.widget-view+json": {
       "model_id": "5a0802863e9740b8a53cebd9cf15ac6a",
       "version_major": 2,
       "version_minor": 0
      },
      "text/plain": [
       "Validation: |          | 0/? [00:00<?, ?it/s]"
      ]
     },
     "metadata": {},
     "output_type": "display_data"
    },
    {
     "data": {
      "application/vnd.jupyter.widget-view+json": {
       "model_id": "efccb7c95d924f688ba2a1a074d025b5",
       "version_major": 2,
       "version_minor": 0
      },
      "text/plain": [
       "Validation: |          | 0/? [00:00<?, ?it/s]"
      ]
     },
     "metadata": {},
     "output_type": "display_data"
    },
    {
     "data": {
      "application/vnd.jupyter.widget-view+json": {
       "model_id": "18bdb62ecf4749c1a7897daacbf4325b",
       "version_major": 2,
       "version_minor": 0
      },
      "text/plain": [
       "Validation: |          | 0/? [00:00<?, ?it/s]"
      ]
     },
     "metadata": {},
     "output_type": "display_data"
    },
    {
     "data": {
      "application/vnd.jupyter.widget-view+json": {
       "model_id": "257f3d7805ee45879b5782c6690598a5",
       "version_major": 2,
       "version_minor": 0
      },
      "text/plain": [
       "Validation: |          | 0/? [00:00<?, ?it/s]"
      ]
     },
     "metadata": {},
     "output_type": "display_data"
    },
    {
     "data": {
      "application/vnd.jupyter.widget-view+json": {
       "model_id": "8102d717be1c4d4896bd0b16c72d252c",
       "version_major": 2,
       "version_minor": 0
      },
      "text/plain": [
       "Validation: |          | 0/? [00:00<?, ?it/s]"
      ]
     },
     "metadata": {},
     "output_type": "display_data"
    },
    {
     "data": {
      "application/vnd.jupyter.widget-view+json": {
       "model_id": "04b3af2164454000b566e66d6b5a9de8",
       "version_major": 2,
       "version_minor": 0
      },
      "text/plain": [
       "Validation: |          | 0/? [00:00<?, ?it/s]"
      ]
     },
     "metadata": {},
     "output_type": "display_data"
    },
    {
     "data": {
      "application/vnd.jupyter.widget-view+json": {
       "model_id": "2efd2e17c1d147c8a10bb69231aaac9c",
       "version_major": 2,
       "version_minor": 0
      },
      "text/plain": [
       "Validation: |          | 0/? [00:00<?, ?it/s]"
      ]
     },
     "metadata": {},
     "output_type": "display_data"
    },
    {
     "data": {
      "application/vnd.jupyter.widget-view+json": {
       "model_id": "d96750558e044982ad1122e5ef376296",
       "version_major": 2,
       "version_minor": 0
      },
      "text/plain": [
       "Validation: |          | 0/? [00:00<?, ?it/s]"
      ]
     },
     "metadata": {},
     "output_type": "display_data"
    },
    {
     "data": {
      "application/vnd.jupyter.widget-view+json": {
       "model_id": "ff53934d4c3f4e08904565073b1c6b49",
       "version_major": 2,
       "version_minor": 0
      },
      "text/plain": [
       "Validation: |          | 0/? [00:00<?, ?it/s]"
      ]
     },
     "metadata": {},
     "output_type": "display_data"
    },
    {
     "data": {
      "application/vnd.jupyter.widget-view+json": {
       "model_id": "184fe44abc3341f19c9df748db039aa6",
       "version_major": 2,
       "version_minor": 0
      },
      "text/plain": [
       "Validation: |          | 0/? [00:00<?, ?it/s]"
      ]
     },
     "metadata": {},
     "output_type": "display_data"
    },
    {
     "data": {
      "application/vnd.jupyter.widget-view+json": {
       "model_id": "cb71f5ec85d6421db10b74be25b483e8",
       "version_major": 2,
       "version_minor": 0
      },
      "text/plain": [
       "Validation: |          | 0/? [00:00<?, ?it/s]"
      ]
     },
     "metadata": {},
     "output_type": "display_data"
    },
    {
     "data": {
      "application/vnd.jupyter.widget-view+json": {
       "model_id": "1d56cfc2e209427bb66ff2ab0de91b1f",
       "version_major": 2,
       "version_minor": 0
      },
      "text/plain": [
       "Validation: |          | 0/? [00:00<?, ?it/s]"
      ]
     },
     "metadata": {},
     "output_type": "display_data"
    },
    {
     "data": {
      "application/vnd.jupyter.widget-view+json": {
       "model_id": "b027bc9381904c618216dfd9f08cc121",
       "version_major": 2,
       "version_minor": 0
      },
      "text/plain": [
       "Validation: |          | 0/? [00:00<?, ?it/s]"
      ]
     },
     "metadata": {},
     "output_type": "display_data"
    },
    {
     "data": {
      "application/vnd.jupyter.widget-view+json": {
       "model_id": "7783b63ae03a464b80dfff74a6ce0c89",
       "version_major": 2,
       "version_minor": 0
      },
      "text/plain": [
       "Validation: |          | 0/? [00:00<?, ?it/s]"
      ]
     },
     "metadata": {},
     "output_type": "display_data"
    },
    {
     "data": {
      "application/vnd.jupyter.widget-view+json": {
       "model_id": "6f00c1ef872d4d8b864ba39f5023aa01",
       "version_major": 2,
       "version_minor": 0
      },
      "text/plain": [
       "Validation: |          | 0/? [00:00<?, ?it/s]"
      ]
     },
     "metadata": {},
     "output_type": "display_data"
    },
    {
     "data": {
      "application/vnd.jupyter.widget-view+json": {
       "model_id": "9600e0b65ebe4671aa50822e57e63a13",
       "version_major": 2,
       "version_minor": 0
      },
      "text/plain": [
       "Validation: |          | 0/? [00:00<?, ?it/s]"
      ]
     },
     "metadata": {},
     "output_type": "display_data"
    },
    {
     "data": {
      "application/vnd.jupyter.widget-view+json": {
       "model_id": "41e0492b9960442a8449d7971e4cb5f4",
       "version_major": 2,
       "version_minor": 0
      },
      "text/plain": [
       "Validation: |          | 0/? [00:00<?, ?it/s]"
      ]
     },
     "metadata": {},
     "output_type": "display_data"
    },
    {
     "data": {
      "application/vnd.jupyter.widget-view+json": {
       "model_id": "60091d998def4e6ab6cb6168b61725bb",
       "version_major": 2,
       "version_minor": 0
      },
      "text/plain": [
       "Validation: |          | 0/? [00:00<?, ?it/s]"
      ]
     },
     "metadata": {},
     "output_type": "display_data"
    },
    {
     "data": {
      "application/vnd.jupyter.widget-view+json": {
       "model_id": "aa3773ac39a2470fa4ace6fff013d1c5",
       "version_major": 2,
       "version_minor": 0
      },
      "text/plain": [
       "Validation: |          | 0/? [00:00<?, ?it/s]"
      ]
     },
     "metadata": {},
     "output_type": "display_data"
    },
    {
     "data": {
      "application/vnd.jupyter.widget-view+json": {
       "model_id": "22eb41f4aa9e40179f5c7609428c84ca",
       "version_major": 2,
       "version_minor": 0
      },
      "text/plain": [
       "Validation: |          | 0/? [00:00<?, ?it/s]"
      ]
     },
     "metadata": {},
     "output_type": "display_data"
    },
    {
     "data": {
      "application/vnd.jupyter.widget-view+json": {
       "model_id": "93e6bf7deb88413b8921305412abea63",
       "version_major": 2,
       "version_minor": 0
      },
      "text/plain": [
       "Validation: |          | 0/? [00:00<?, ?it/s]"
      ]
     },
     "metadata": {},
     "output_type": "display_data"
    },
    {
     "data": {
      "application/vnd.jupyter.widget-view+json": {
       "model_id": "a6f9ecf9f6874c87abb1d33140a4c0cc",
       "version_major": 2,
       "version_minor": 0
      },
      "text/plain": [
       "Validation: |          | 0/? [00:00<?, ?it/s]"
      ]
     },
     "metadata": {},
     "output_type": "display_data"
    },
    {
     "data": {
      "application/vnd.jupyter.widget-view+json": {
       "model_id": "f6ff5546ef124c94a0df33bd020ac833",
       "version_major": 2,
       "version_minor": 0
      },
      "text/plain": [
       "Validation: |          | 0/? [00:00<?, ?it/s]"
      ]
     },
     "metadata": {},
     "output_type": "display_data"
    },
    {
     "data": {
      "application/vnd.jupyter.widget-view+json": {
       "model_id": "4afe317220be428798a08132f505054d",
       "version_major": 2,
       "version_minor": 0
      },
      "text/plain": [
       "Validation: |          | 0/? [00:00<?, ?it/s]"
      ]
     },
     "metadata": {},
     "output_type": "display_data"
    },
    {
     "data": {
      "application/vnd.jupyter.widget-view+json": {
       "model_id": "f71d7506aa3a4e03ae0737f4223f8ac1",
       "version_major": 2,
       "version_minor": 0
      },
      "text/plain": [
       "Validation: |          | 0/? [00:00<?, ?it/s]"
      ]
     },
     "metadata": {},
     "output_type": "display_data"
    },
    {
     "data": {
      "application/vnd.jupyter.widget-view+json": {
       "model_id": "ab32afa3e0cb4044b6e071d164cc74ed",
       "version_major": 2,
       "version_minor": 0
      },
      "text/plain": [
       "Validation: |          | 0/? [00:00<?, ?it/s]"
      ]
     },
     "metadata": {},
     "output_type": "display_data"
    },
    {
     "data": {
      "application/vnd.jupyter.widget-view+json": {
       "model_id": "a19e65fa9ac44b5b8e369db58c0602d4",
       "version_major": 2,
       "version_minor": 0
      },
      "text/plain": [
       "Validation: |          | 0/? [00:00<?, ?it/s]"
      ]
     },
     "metadata": {},
     "output_type": "display_data"
    },
    {
     "data": {
      "application/vnd.jupyter.widget-view+json": {
       "model_id": "9a84bbf3c3964636a16587712807176a",
       "version_major": 2,
       "version_minor": 0
      },
      "text/plain": [
       "Validation: |          | 0/? [00:00<?, ?it/s]"
      ]
     },
     "metadata": {},
     "output_type": "display_data"
    },
    {
     "data": {
      "application/vnd.jupyter.widget-view+json": {
       "model_id": "592d91eb22ce47d5b8f32bfa21500ab1",
       "version_major": 2,
       "version_minor": 0
      },
      "text/plain": [
       "Validation: |          | 0/? [00:00<?, ?it/s]"
      ]
     },
     "metadata": {},
     "output_type": "display_data"
    },
    {
     "data": {
      "application/vnd.jupyter.widget-view+json": {
       "model_id": "9e730c7bc0dd43a198043377a20f39a8",
       "version_major": 2,
       "version_minor": 0
      },
      "text/plain": [
       "Validation: |          | 0/? [00:00<?, ?it/s]"
      ]
     },
     "metadata": {},
     "output_type": "display_data"
    },
    {
     "data": {
      "application/vnd.jupyter.widget-view+json": {
       "model_id": "ca2e7aff52a74bf8bd0a6a9893eaa06d",
       "version_major": 2,
       "version_minor": 0
      },
      "text/plain": [
       "Validation: |          | 0/? [00:00<?, ?it/s]"
      ]
     },
     "metadata": {},
     "output_type": "display_data"
    },
    {
     "data": {
      "application/vnd.jupyter.widget-view+json": {
       "model_id": "be7e3956034449e782e921d3acf515c4",
       "version_major": 2,
       "version_minor": 0
      },
      "text/plain": [
       "Validation: |          | 0/? [00:00<?, ?it/s]"
      ]
     },
     "metadata": {},
     "output_type": "display_data"
    },
    {
     "data": {
      "application/vnd.jupyter.widget-view+json": {
       "model_id": "d546856d32c44a0183e40bf5edae93c0",
       "version_major": 2,
       "version_minor": 0
      },
      "text/plain": [
       "Validation: |          | 0/? [00:00<?, ?it/s]"
      ]
     },
     "metadata": {},
     "output_type": "display_data"
    },
    {
     "data": {
      "application/vnd.jupyter.widget-view+json": {
       "model_id": "3805ab02b960467c8d8debb66eb49bfa",
       "version_major": 2,
       "version_minor": 0
      },
      "text/plain": [
       "Validation: |          | 0/? [00:00<?, ?it/s]"
      ]
     },
     "metadata": {},
     "output_type": "display_data"
    },
    {
     "data": {
      "application/vnd.jupyter.widget-view+json": {
       "model_id": "c412e3fb424c4db2b751b17cb9122fd3",
       "version_major": 2,
       "version_minor": 0
      },
      "text/plain": [
       "Validation: |          | 0/? [00:00<?, ?it/s]"
      ]
     },
     "metadata": {},
     "output_type": "display_data"
    },
    {
     "data": {
      "application/vnd.jupyter.widget-view+json": {
       "model_id": "1fafb1d560e3499ea0460b0c5eb121eb",
       "version_major": 2,
       "version_minor": 0
      },
      "text/plain": [
       "Validation: |          | 0/? [00:00<?, ?it/s]"
      ]
     },
     "metadata": {},
     "output_type": "display_data"
    },
    {
     "data": {
      "application/vnd.jupyter.widget-view+json": {
       "model_id": "5402e0e7a05d4a5fa55752359ccfaf24",
       "version_major": 2,
       "version_minor": 0
      },
      "text/plain": [
       "Validation: |          | 0/? [00:00<?, ?it/s]"
      ]
     },
     "metadata": {},
     "output_type": "display_data"
    },
    {
     "data": {
      "application/vnd.jupyter.widget-view+json": {
       "model_id": "37bba7a568ed4df298d575cdf61aba16",
       "version_major": 2,
       "version_minor": 0
      },
      "text/plain": [
       "Validation: |          | 0/? [00:00<?, ?it/s]"
      ]
     },
     "metadata": {},
     "output_type": "display_data"
    },
    {
     "data": {
      "application/vnd.jupyter.widget-view+json": {
       "model_id": "ab3b37acd2a84c9c86c3c1b039ecbf26",
       "version_major": 2,
       "version_minor": 0
      },
      "text/plain": [
       "Validation: |          | 0/? [00:00<?, ?it/s]"
      ]
     },
     "metadata": {},
     "output_type": "display_data"
    },
    {
     "data": {
      "application/vnd.jupyter.widget-view+json": {
       "model_id": "fc768f1757a4487189ea3f0bbba50f49",
       "version_major": 2,
       "version_minor": 0
      },
      "text/plain": [
       "Validation: |          | 0/? [00:00<?, ?it/s]"
      ]
     },
     "metadata": {},
     "output_type": "display_data"
    },
    {
     "data": {
      "application/vnd.jupyter.widget-view+json": {
       "model_id": "3bd28ddab76a435eb229808f9dde100a",
       "version_major": 2,
       "version_minor": 0
      },
      "text/plain": [
       "Validation: |          | 0/? [00:00<?, ?it/s]"
      ]
     },
     "metadata": {},
     "output_type": "display_data"
    },
    {
     "data": {
      "application/vnd.jupyter.widget-view+json": {
       "model_id": "1226c2e226a642c2af8ff8039470167c",
       "version_major": 2,
       "version_minor": 0
      },
      "text/plain": [
       "Validation: |          | 0/? [00:00<?, ?it/s]"
      ]
     },
     "metadata": {},
     "output_type": "display_data"
    },
    {
     "data": {
      "application/vnd.jupyter.widget-view+json": {
       "model_id": "bcf692a7c01346ba8eef6a94fde6d67b",
       "version_major": 2,
       "version_minor": 0
      },
      "text/plain": [
       "Validation: |          | 0/? [00:00<?, ?it/s]"
      ]
     },
     "metadata": {},
     "output_type": "display_data"
    },
    {
     "data": {
      "application/vnd.jupyter.widget-view+json": {
       "model_id": "6655f02679454d7c964d97af3183093d",
       "version_major": 2,
       "version_minor": 0
      },
      "text/plain": [
       "Validation: |          | 0/? [00:00<?, ?it/s]"
      ]
     },
     "metadata": {},
     "output_type": "display_data"
    },
    {
     "data": {
      "application/vnd.jupyter.widget-view+json": {
       "model_id": "30424ea82b2c46108b6114bd44d85311",
       "version_major": 2,
       "version_minor": 0
      },
      "text/plain": [
       "Validation: |          | 0/? [00:00<?, ?it/s]"
      ]
     },
     "metadata": {},
     "output_type": "display_data"
    },
    {
     "data": {
      "application/vnd.jupyter.widget-view+json": {
       "model_id": "c37821a669334384883ac12927c0719f",
       "version_major": 2,
       "version_minor": 0
      },
      "text/plain": [
       "Validation: |          | 0/? [00:00<?, ?it/s]"
      ]
     },
     "metadata": {},
     "output_type": "display_data"
    },
    {
     "data": {
      "application/vnd.jupyter.widget-view+json": {
       "model_id": "540702a19ee041e7be5aec9b5fbdd23f",
       "version_major": 2,
       "version_minor": 0
      },
      "text/plain": [
       "Validation: |          | 0/? [00:00<?, ?it/s]"
      ]
     },
     "metadata": {},
     "output_type": "display_data"
    },
    {
     "data": {
      "application/vnd.jupyter.widget-view+json": {
       "model_id": "05696a2c2ff349f08937d0790d4d71a6",
       "version_major": 2,
       "version_minor": 0
      },
      "text/plain": [
       "Validation: |          | 0/? [00:00<?, ?it/s]"
      ]
     },
     "metadata": {},
     "output_type": "display_data"
    },
    {
     "data": {
      "application/vnd.jupyter.widget-view+json": {
       "model_id": "d6fa41fc88b943c8933cf7ba2538018d",
       "version_major": 2,
       "version_minor": 0
      },
      "text/plain": [
       "Validation: |          | 0/? [00:00<?, ?it/s]"
      ]
     },
     "metadata": {},
     "output_type": "display_data"
    },
    {
     "data": {
      "application/vnd.jupyter.widget-view+json": {
       "model_id": "dd5b48aab73f480fb5e0538dbab60e66",
       "version_major": 2,
       "version_minor": 0
      },
      "text/plain": [
       "Validation: |          | 0/? [00:00<?, ?it/s]"
      ]
     },
     "metadata": {},
     "output_type": "display_data"
    },
    {
     "data": {
      "application/vnd.jupyter.widget-view+json": {
       "model_id": "3486ae1c9a0e493f8f5c7a68f469ead4",
       "version_major": 2,
       "version_minor": 0
      },
      "text/plain": [
       "Validation: |          | 0/? [00:00<?, ?it/s]"
      ]
     },
     "metadata": {},
     "output_type": "display_data"
    },
    {
     "data": {
      "application/vnd.jupyter.widget-view+json": {
       "model_id": "cbe93198652648abb915c6a39a4570b3",
       "version_major": 2,
       "version_minor": 0
      },
      "text/plain": [
       "Validation: |          | 0/? [00:00<?, ?it/s]"
      ]
     },
     "metadata": {},
     "output_type": "display_data"
    },
    {
     "data": {
      "application/vnd.jupyter.widget-view+json": {
       "model_id": "29ec84105fd14029bf9b7ee06d155af3",
       "version_major": 2,
       "version_minor": 0
      },
      "text/plain": [
       "Validation: |          | 0/? [00:00<?, ?it/s]"
      ]
     },
     "metadata": {},
     "output_type": "display_data"
    },
    {
     "data": {
      "application/vnd.jupyter.widget-view+json": {
       "model_id": "3dc539f8ed154a7b82ed18a3a804c012",
       "version_major": 2,
       "version_minor": 0
      },
      "text/plain": [
       "Validation: |          | 0/? [00:00<?, ?it/s]"
      ]
     },
     "metadata": {},
     "output_type": "display_data"
    },
    {
     "data": {
      "application/vnd.jupyter.widget-view+json": {
       "model_id": "6beaaf22d26d4916aa1256f55f306616",
       "version_major": 2,
       "version_minor": 0
      },
      "text/plain": [
       "Validation: |          | 0/? [00:00<?, ?it/s]"
      ]
     },
     "metadata": {},
     "output_type": "display_data"
    },
    {
     "data": {
      "application/vnd.jupyter.widget-view+json": {
       "model_id": "11e362bc4ec0405cb6c3d38de3d2889a",
       "version_major": 2,
       "version_minor": 0
      },
      "text/plain": [
       "Validation: |          | 0/? [00:00<?, ?it/s]"
      ]
     },
     "metadata": {},
     "output_type": "display_data"
    },
    {
     "data": {
      "application/vnd.jupyter.widget-view+json": {
       "model_id": "3dd6c301bd6c4bbb81432310df8d632a",
       "version_major": 2,
       "version_minor": 0
      },
      "text/plain": [
       "Validation: |          | 0/? [00:00<?, ?it/s]"
      ]
     },
     "metadata": {},
     "output_type": "display_data"
    },
    {
     "data": {
      "application/vnd.jupyter.widget-view+json": {
       "model_id": "4304f65bd8cf41b5ba709dcff33cd3a2",
       "version_major": 2,
       "version_minor": 0
      },
      "text/plain": [
       "Validation: |          | 0/? [00:00<?, ?it/s]"
      ]
     },
     "metadata": {},
     "output_type": "display_data"
    },
    {
     "data": {
      "application/vnd.jupyter.widget-view+json": {
       "model_id": "e299337cc59d4282876dd48877d23e68",
       "version_major": 2,
       "version_minor": 0
      },
      "text/plain": [
       "Validation: |          | 0/? [00:00<?, ?it/s]"
      ]
     },
     "metadata": {},
     "output_type": "display_data"
    },
    {
     "data": {
      "application/vnd.jupyter.widget-view+json": {
       "model_id": "7a051884ef5b4caf8c04de65b4be337c",
       "version_major": 2,
       "version_minor": 0
      },
      "text/plain": [
       "Validation: |          | 0/? [00:00<?, ?it/s]"
      ]
     },
     "metadata": {},
     "output_type": "display_data"
    },
    {
     "data": {
      "application/vnd.jupyter.widget-view+json": {
       "model_id": "35783bd6a53b4498bd9b300d9f5d3eaf",
       "version_major": 2,
       "version_minor": 0
      },
      "text/plain": [
       "Validation: |          | 0/? [00:00<?, ?it/s]"
      ]
     },
     "metadata": {},
     "output_type": "display_data"
    },
    {
     "data": {
      "application/vnd.jupyter.widget-view+json": {
       "model_id": "4823bb54708a45e3aacb8b910041880e",
       "version_major": 2,
       "version_minor": 0
      },
      "text/plain": [
       "Validation: |          | 0/? [00:00<?, ?it/s]"
      ]
     },
     "metadata": {},
     "output_type": "display_data"
    },
    {
     "data": {
      "application/vnd.jupyter.widget-view+json": {
       "model_id": "f54e069a0b45416a86db7ca8b1f931dc",
       "version_major": 2,
       "version_minor": 0
      },
      "text/plain": [
       "Validation: |          | 0/? [00:00<?, ?it/s]"
      ]
     },
     "metadata": {},
     "output_type": "display_data"
    },
    {
     "data": {
      "application/vnd.jupyter.widget-view+json": {
       "model_id": "0888703396754e64bc91f2d97de91957",
       "version_major": 2,
       "version_minor": 0
      },
      "text/plain": [
       "Validation: |          | 0/? [00:00<?, ?it/s]"
      ]
     },
     "metadata": {},
     "output_type": "display_data"
    },
    {
     "data": {
      "application/vnd.jupyter.widget-view+json": {
       "model_id": "dd5cebe4049147d48b7d3aed8cab8a85",
       "version_major": 2,
       "version_minor": 0
      },
      "text/plain": [
       "Validation: |          | 0/? [00:00<?, ?it/s]"
      ]
     },
     "metadata": {},
     "output_type": "display_data"
    },
    {
     "data": {
      "application/vnd.jupyter.widget-view+json": {
       "model_id": "1e88316e10b54d5c91ade8e23d4da139",
       "version_major": 2,
       "version_minor": 0
      },
      "text/plain": [
       "Validation: |          | 0/? [00:00<?, ?it/s]"
      ]
     },
     "metadata": {},
     "output_type": "display_data"
    },
    {
     "data": {
      "application/vnd.jupyter.widget-view+json": {
       "model_id": "bcd0676dcf7e40ca8321ab08cb82a114",
       "version_major": 2,
       "version_minor": 0
      },
      "text/plain": [
       "Validation: |          | 0/? [00:00<?, ?it/s]"
      ]
     },
     "metadata": {},
     "output_type": "display_data"
    },
    {
     "data": {
      "application/vnd.jupyter.widget-view+json": {
       "model_id": "1814f1621d314f2386327a0357e8beff",
       "version_major": 2,
       "version_minor": 0
      },
      "text/plain": [
       "Validation: |          | 0/? [00:00<?, ?it/s]"
      ]
     },
     "metadata": {},
     "output_type": "display_data"
    },
    {
     "data": {
      "application/vnd.jupyter.widget-view+json": {
       "model_id": "e1349223c2f34594a510cceec81f24b8",
       "version_major": 2,
       "version_minor": 0
      },
      "text/plain": [
       "Validation: |          | 0/? [00:00<?, ?it/s]"
      ]
     },
     "metadata": {},
     "output_type": "display_data"
    },
    {
     "data": {
      "application/vnd.jupyter.widget-view+json": {
       "model_id": "563db946abc14300a63677e2e3ca4d6f",
       "version_major": 2,
       "version_minor": 0
      },
      "text/plain": [
       "Validation: |          | 0/? [00:00<?, ?it/s]"
      ]
     },
     "metadata": {},
     "output_type": "display_data"
    },
    {
     "data": {
      "application/vnd.jupyter.widget-view+json": {
       "model_id": "d807b22d6ad64a91a003350558188f36",
       "version_major": 2,
       "version_minor": 0
      },
      "text/plain": [
       "Validation: |          | 0/? [00:00<?, ?it/s]"
      ]
     },
     "metadata": {},
     "output_type": "display_data"
    },
    {
     "data": {
      "application/vnd.jupyter.widget-view+json": {
       "model_id": "223341c99c2f43199bf91299ec8968a9",
       "version_major": 2,
       "version_minor": 0
      },
      "text/plain": [
       "Validation: |          | 0/? [00:00<?, ?it/s]"
      ]
     },
     "metadata": {},
     "output_type": "display_data"
    },
    {
     "data": {
      "application/vnd.jupyter.widget-view+json": {
       "model_id": "4b00579bc52542f3a70dd2bb348e315a",
       "version_major": 2,
       "version_minor": 0
      },
      "text/plain": [
       "Validation: |          | 0/? [00:00<?, ?it/s]"
      ]
     },
     "metadata": {},
     "output_type": "display_data"
    },
    {
     "data": {
      "application/vnd.jupyter.widget-view+json": {
       "model_id": "f1cb8b757d344f71a1862021c42da908",
       "version_major": 2,
       "version_minor": 0
      },
      "text/plain": [
       "Validation: |          | 0/? [00:00<?, ?it/s]"
      ]
     },
     "metadata": {},
     "output_type": "display_data"
    },
    {
     "data": {
      "application/vnd.jupyter.widget-view+json": {
       "model_id": "f7f0e4c741ce49e09eac651054feea74",
       "version_major": 2,
       "version_minor": 0
      },
      "text/plain": [
       "Validation: |          | 0/? [00:00<?, ?it/s]"
      ]
     },
     "metadata": {},
     "output_type": "display_data"
    },
    {
     "data": {
      "application/vnd.jupyter.widget-view+json": {
       "model_id": "4b7c501c38b14a68b68e3c1a34b3215e",
       "version_major": 2,
       "version_minor": 0
      },
      "text/plain": [
       "Validation: |          | 0/? [00:00<?, ?it/s]"
      ]
     },
     "metadata": {},
     "output_type": "display_data"
    },
    {
     "data": {
      "application/vnd.jupyter.widget-view+json": {
       "model_id": "a37a89f3fd424b0980c035615b3b3af1",
       "version_major": 2,
       "version_minor": 0
      },
      "text/plain": [
       "Validation: |          | 0/? [00:00<?, ?it/s]"
      ]
     },
     "metadata": {},
     "output_type": "display_data"
    },
    {
     "data": {
      "application/vnd.jupyter.widget-view+json": {
       "model_id": "e90121705c004578bf8541e34eca76d1",
       "version_major": 2,
       "version_minor": 0
      },
      "text/plain": [
       "Validation: |          | 0/? [00:00<?, ?it/s]"
      ]
     },
     "metadata": {},
     "output_type": "display_data"
    },
    {
     "data": {
      "application/vnd.jupyter.widget-view+json": {
       "model_id": "a8331a3e1da144a5bb0f4ebde7c257ff",
       "version_major": 2,
       "version_minor": 0
      },
      "text/plain": [
       "Validation: |          | 0/? [00:00<?, ?it/s]"
      ]
     },
     "metadata": {},
     "output_type": "display_data"
    },
    {
     "data": {
      "application/vnd.jupyter.widget-view+json": {
       "model_id": "323fc9f51bab48e4868cb168525a1834",
       "version_major": 2,
       "version_minor": 0
      },
      "text/plain": [
       "Validation: |          | 0/? [00:00<?, ?it/s]"
      ]
     },
     "metadata": {},
     "output_type": "display_data"
    },
    {
     "name": "stderr",
     "output_type": "stream",
     "text": [
      "`Trainer.fit` stopped: `max_epochs=100` reached.\n"
     ]
    }
   ],
   "source": [
    "from pytorch_lightning import LightningModule, Trainer\n",
    "from pytorch_lightning.loggers import TensorBoardLogger\n",
    "from torch.optim import Adam\n",
    "from torch.utils.data import DataLoader\n",
    "\n",
    "\n",
    "class PoseAutoencoderModel(LightningModule):\n",
    "    def __init__(self, embedding_dim, lr=1e-3, train_frac=0.8, aug_random_noise: float = 0.0, aug_random_rotation: float = 0.5):\n",
    "        super().__init__()\n",
    "        self.model = PoseAutoencoder(embedding_dim)\n",
    "        self.lr = lr\n",
    "\n",
    "        self.aug_random_noise = aug_random_noise\n",
    "        self.aug_random_rotation = aug_random_rotation\n",
    "\n",
    "        self.all_data = PoseDataset(all_data)\n",
    "        n_samples = len(self.all_data)\n",
    "        self.train_data, self.val_data = torch.utils.data.random_split(self.all_data, [int(n_samples * train_frac), n_samples - int(n_samples * 0.8)])\n",
    "\n",
    "    def forward(self, x):\n",
    "        return self.model(x)\n",
    "    \n",
    "    def training_step(self, batch: Tensor, batch_idx):\n",
    "        x = batch\n",
    "\n",
    "        if self.aug_random_rotation > 0:\n",
    "            radians = (torch.rand(x.shape[0], device=x.device) - 0.5) * self.aug_random_rotation * torch.tensor(np.pi)\n",
    "            x = batch_rotate_around_z(x, radians)\n",
    "\n",
    "        z = self.model.encoder(x)\n",
    "\n",
    "        if self.aug_random_noise > 0:\n",
    "            noise = torch.randn_like(x) * self.aug_random_noise\n",
    "            z = z + noise\n",
    "\n",
    "        x_hat = self.model.decoder(z)\n",
    "        loss = nn.functional.mse_loss(x_hat, x)\n",
    "        self.log(\"train_loss\", loss)\n",
    "        return loss\n",
    "\n",
    "    def configure_optimizers(self):\n",
    "        return Adam(self.parameters(), lr=self.lr)\n",
    "    \n",
    "    def train_dataloader(self):\n",
    "        return DataLoader(self.train_data, batch_size=128, shuffle=True, num_workers=8)\n",
    "    \n",
    "    def validation_step(self, batch, batch_idx):\n",
    "        x = batch\n",
    "        x_hat = self.model(x)\n",
    "        loss = nn.functional.mse_loss(x_hat, x)\n",
    "        self.log(\"val_loss\", loss)\n",
    "        return loss\n",
    "    \n",
    "    def val_dataloader(self):\n",
    "        return DataLoader(self.val_data, batch_size=128)\n",
    "    \n",
    "    def test_step(self, batch, batch_idx):\n",
    "        x = batch\n",
    "        x_hat = self.model(x)\n",
    "        loss = nn.functional.mse_loss(x_hat, x)\n",
    "        self.log(\"test_loss\", loss)\n",
    "        return loss\n",
    "\n",
    "    \n",
    "\n",
    "model = PoseAutoencoderModel(embedding_dim=64)\n",
    "logger = TensorBoardLogger(\"logs/poseae\", name=\"pose_autoencoder\")\n",
    "trainer = Trainer(max_epochs=100, logger=logger)\n",
    "trainer.fit(model)"
   ]
  },
  {
   "cell_type": "code",
   "execution_count": 21,
   "metadata": {},
   "outputs": [],
   "source": [
    "ex_batch = torch.tensor(all_data[0], dtype=torch.float32).unsqueeze(0)\n",
    "ex_batch_hat = model(ex_batch)\n",
    "\n",
    "fig_anim = FigureAnimation(ex_batch_hat.detach().numpy())\n",
    "fig_anim.start(framerate=1)\n"
   ]
  }
 ],
 "metadata": {
  "kernelspec": {
   "display_name": "venv",
   "language": "python",
   "name": "python3"
  },
  "language_info": {
   "codemirror_mode": {
    "name": "ipython",
    "version": 3
   },
   "file_extension": ".py",
   "mimetype": "text/x-python",
   "name": "python",
   "nbconvert_exporter": "python",
   "pygments_lexer": "ipython3",
   "version": "3.12.9"
  }
 },
 "nbformat": 4,
 "nbformat_minor": 2
}
