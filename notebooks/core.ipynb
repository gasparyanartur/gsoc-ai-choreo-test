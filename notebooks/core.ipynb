{
 "cells": [
  {
   "cell_type": "markdown",
   "metadata": {},
   "source": [
    "## Visualize Data"
   ]
  },
  {
   "cell_type": "code",
   "execution_count": 46,
   "metadata": {},
   "outputs": [
    {
     "name": "stdout",
     "output_type": "stream",
     "text": [
      "shape (55, 4866, 3)\n",
      "dtype float64\n",
      "max 1.9273922443389893\n",
      "min -6.332875728607178\n",
      "1q -1.006934016942978\n",
      "2q -0.4554957449436188\n",
      "3q -0.042966997250914574\n",
      "mean -0.6010307200624114\n",
      "std 0.8776853231783209\n"
     ]
    }
   ],
   "source": [
    "from pathlib import Path\n",
    "import numpy as np\n",
    "\n",
    "data_path = Path(\"data/mariel_chunli.npy\")\n",
    "data_raw = np.load(data_path)\n",
    "\n",
    "def inspect_data(data):\n",
    "    print(\"shape\", data.shape)\n",
    "    print(\"dtype\", data.dtype)\n",
    "    print(\"max\", data.max())\n",
    "    print(\"min\", data.min())\n",
    "    print(\"1q\", np.percentile(data, 25))\n",
    "    print(\"2q\", np.percentile(data, 50))\n",
    "    print(\"3q\", np.percentile(data, 75))\n",
    "    print(\"mean\", data.mean())\n",
    "    print(\"std\", data.std())\n",
    "\n",
    "inspect_data(data_raw)"
   ]
  },
  {
   "cell_type": "code",
   "execution_count": 47,
   "metadata": {},
   "outputs": [
    {
     "data": {
      "text/plain": [
       "(58, 2)"
      ]
     },
     "execution_count": 47,
     "metadata": {},
     "output_type": "execute_result"
    }
   ],
   "source": [
    "# Taken from https://github.com/mariel-pettee/choreo-graph/blob/main/functions/load_data.py\n",
    "\n",
    "ALL_POINT_LABELS = ['ARIEL', 'C7', 'CLAV', 'LANK', 'LBHD', 'LBSH', 'LBWT', 'LELB', 'LFHD', 'LFRM', 'LFSH', 'LFWT', 'LHEL', 'LIEL', 'LIHAND', 'LIWR', 'LKNE', 'LKNI', 'LMT1', 'LMT5', 'LOHAND', 'LOWR', 'LSHN', 'LTHI', 'LTOE', 'LUPA', 'LabelingHips', 'MBWT', 'MFWT', 'RANK', 'RBHD', 'RBSH', 'RBWT', 'RELB', 'RFHD', 'RFRM', 'RFSH', 'RFWT', 'RHEL', 'RIEL', 'RIHAND', 'RIWR', 'RKNE', 'RKNI', 'RMT1', 'RMT5', 'ROHAND', 'ROWR', 'RSHN', 'RTHI', 'RTOE', 'RUPA', 'STRN', 'SolvingHips', 'T10']    \n",
    "BAD_LABELS = ['SolvingHips', 'LabelingHips']\n",
    "POINT_LABELS = [label for label in ALL_POINT_LABELS if label not in BAD_LABELS]\n",
    "NUM_GROUPS = len(POINT_LABELS)\n",
    "\n",
    "skeleton_lines = [\n",
    "#     ( (start group), (end group) ),\n",
    "    ('LHEL', 'LTOE',), # toe to heel\n",
    "    ('RHEL', 'RTOE',),\n",
    "    ('LMT1', 'LMT5',), # horizontal line across foot\n",
    "    ('RMT1', 'RMT5',),   \n",
    "    ('LHEL', 'LMT1',), # heel to sides of feet\n",
    "    ('LHEL', 'LMT5',),\n",
    "    ('RHEL', 'RMT1',),\n",
    "    ('RHEL', 'RMT5',),\n",
    "    ('LTOE', 'LMT1',), # toe to sides of feet\n",
    "    ('LTOE', 'LMT5',),\n",
    "    ('RTOE', 'RMT1',),\n",
    "    ('RTOE', 'RMT5',),\n",
    "    ('LKNE', 'LHEL',), # heel to knee\n",
    "    ('RKNE', 'RHEL',),\n",
    "    ('LFWT', 'RBWT',), # connect pelvis\n",
    "    ('RFWT', 'LBWT',), \n",
    "    ('LFWT', 'RFWT',), \n",
    "    ('LBWT', 'RBWT',),\n",
    "    ('LFWT', 'LBWT',), \n",
    "    ('RFWT', 'RBWT',), \n",
    "    ('LFWT', 'LTHI',), # pelvis to thighs\n",
    "    ('RFWT', 'RTHI',), \n",
    "    ('LBWT', 'LTHI',), \n",
    "    ('RBWT', 'RTHI',), \n",
    "    ('LKNE', 'LTHI',), \n",
    "    ('RKNE', 'RTHI',), \n",
    "    ('CLAV', 'LFSH',), # clavicle to shoulders\n",
    "    ('CLAV', 'RFSH',), \n",
    "    ('STRN', 'LFSH',), # sternum & T10 (back sternum) to shoulders\n",
    "    ('STRN', 'RFSH',), \n",
    "    ('T10', 'LFSH',), \n",
    "    ('T10', 'RFSH',), \n",
    "    ('C7', 'LBSH',), # back clavicle to back shoulders\n",
    "    ('C7', 'RBSH',), \n",
    "    ('LFSH', 'LBSH',), # front shoulders to back shoulders\n",
    "    ('RFSH', 'RBSH',), \n",
    "    ('LFSH', 'RBSH',),\n",
    "    ('RFSH', 'LBSH',),\n",
    "    ('LFSH', 'LUPA',), # shoulders to upper arms\n",
    "    ('RFSH', 'RUPA',), \n",
    "    ('LBSH', 'LUPA',), \n",
    "    ('RBSH', 'RUPA',), \n",
    "    ('LIWR', 'LIHAND',), # wrist to hand\n",
    "    ('RIWR', 'RIHAND',),\n",
    "    ('LOWR', 'LOHAND',), \n",
    "    ('ROWR', 'ROHAND',),\n",
    "    ('LIWR', 'LOWR',), # across the wrist \n",
    "    ('RIWR', 'ROWR',), \n",
    "    ('LIHAND', 'LOHAND',), # across the palm \n",
    "    ('RIHAND', 'ROHAND',), \n",
    "    ('LFHD', 'LBHD',), # draw lines around circumference of the head\n",
    "    ('LBHD', 'RBHD',),\n",
    "    ('RBHD', 'RFHD',),\n",
    "    ('RFHD', 'LFHD',),\n",
    "    ('LFHD', 'ARIEL'), # connect circumference points to top of head\n",
    "    ('LBHD', 'ARIEL'),\n",
    "    ('RBHD', 'ARIEL'),\n",
    "    ('RFHD', 'ARIEL'),\n",
    "]\n",
    "\n",
    "POINT_IDXS = {label: i for i, label in enumerate(POINT_LABELS)}\n",
    "EDGES = [(POINT_IDXS[start], POINT_IDXS[end]) for start, end in skeleton_lines]\n",
    "EDGES = np.array(EDGES)\n",
    "EDGES.shape"
   ]
  },
  {
   "cell_type": "code",
   "execution_count": 115,
   "metadata": {},
   "outputs": [
    {
     "name": "stdout",
     "output_type": "stream",
     "text": [
      "betternot_and_retrograde 159\n",
      "beyond 97\n",
      "chunli 188\n",
      "honey 124\n",
      "knownbetter 284\n",
      "penelope 150\n"
     ]
    }
   ],
   "source": [
    "# For some reason, there are some frames that are the same as the previous frame\n",
    "\n",
    "START_IDX = {}\n",
    "\n",
    "for fn in [\"betternot_and_retrograde\", \"beyond\", \"chunli\", \"honey\", \"knownbetter\", \"penelope\"]:\n",
    "    p = Path(f\"data/mariel_{fn}.npy\")\n",
    "    data_i = np.load(p)\n",
    "    data_i = data_i.swapaxes(0, 1)\n",
    "    for i in range(1, data_i.shape[0]):\n",
    "        if (data_i[i] != data_i[i-1]).all():\n",
    "            print(fn, i)\n",
    "            START_IDX[fn] = i\n",
    "            break"
   ]
  },
  {
   "cell_type": "markdown",
   "metadata": {},
   "source": [
    "First dimension is the edge group.\n",
    "Second is the frames for a given clip.\n",
    "Third is the XYZ coordinates in 3D space. \n",
    "\n",
    "We know the edge groups from [Pettee's previous project](https://github.com/mariel-pettee/choreography/blob/master/functions/functions.py), and we also know that groups 27 and 54 are bad edge groups. \n",
    "\n",
    "We reshape and mask those out. Additionally, we preprocess the data to be in the range -1 to 1."
   ]
  },
  {
   "cell_type": "code",
   "execution_count": 49,
   "metadata": {},
   "outputs": [
    {
     "name": "stdout",
     "output_type": "stream",
     "text": [
      "shape (4866, 53, 3)\n",
      "dtype float64\n",
      "max 1.0\n",
      "min -1.0\n",
      "1q -0.2738534668068461\n",
      "2q 0.3330744535997223\n",
      "3q 0.5042046208517127\n",
      "mean 0.15681260326528199\n",
      "std 0.4136803405246239\n"
     ]
    }
   ],
   "source": [
    "def preprocess_data(data, normalize=True):\n",
    "    bad_groups = [i for i, group in enumerate(ALL_POINT_LABELS) if group in BAD_LABELS]\n",
    "    group_mask = np.ones(data.shape[0], dtype=bool)\n",
    "    group_mask[bad_groups] = False\n",
    "    data = data[group_mask]\n",
    "\n",
    "    data = data.swapaxes(0, 1)\n",
    "\n",
    "    if normalize:\n",
    "        min_val = data.min()\n",
    "        max_val = data.max()\n",
    "        data = (data - min_val) / (max_val - min_val) * 2 - 1\n",
    "\n",
    "    data[:, :,  2] *= -1        # invert z axis\n",
    "\n",
    "    return data\n",
    "\n",
    "data = preprocess_data(data_raw, normalize=True)\n",
    "inspect_data(data)"
   ]
  },
  {
   "cell_type": "code",
   "execution_count": 68,
   "metadata": {},
   "outputs": [],
   "source": [
    "%matplotlib QtAgg\n",
    "\n",
    "from matplotlib import pyplot as plt\n",
    "from matplotlib.animation import FuncAnimation\n",
    "from mpl_toolkits.mplot3d import Axes3D\n",
    "\n",
    "class FigureAnimation:\n",
    "    def __init__(self, data):\n",
    "        self.data = data\n",
    "\n",
    "        self.fig = plt.figure()\n",
    "        self.ax = self.fig.add_subplot(projection='3d')\n",
    "\n",
    "        self.ax.set_xlim(data[:, :, 0].min(), data[:, :, 0].max())\n",
    "        self.ax.set_ylim(data[:, :, 1].min(), data[:, :, 1].max())\n",
    "        self.ax.set_zlim(data[:, :, 2].min(), data[:, :, 2].max())\n",
    "\n",
    "        self.scatter_plot = None\n",
    "        self.lineplots = None\n",
    "\n",
    "    def start(self, start_frame: int = 0, end_frame: int = -1, framerate: int = 20):\n",
    "        if end_frame == -1:\n",
    "            end_frame = self.data.shape[0]\n",
    "\n",
    "        def setup():\n",
    "            snapshot = self.data[start_frame]\n",
    "            self.scatter_plot = self.ax.scatter(snapshot[:, 0], snapshot[:, 1], snapshot[:, 2])\n",
    "\n",
    "            start_edges, end_edges = EDGES[:, 0], EDGES[:, 1]\n",
    "            lines = np.stack([snapshot[start_edges], snapshot[end_edges]], axis=1)\n",
    "            \n",
    "            self.lineplots = [self.ax.plot(line[:, 0], line[:, 1], line[:, 2], color='black')[0] for line in lines]\n",
    "\n",
    "            return self.scatter_plot, *self.lineplots\n",
    "\n",
    "        def update(frame):\n",
    "            snapshot = self.data[int(frame)]\n",
    "            self.scatter_plot._offsets3d = (snapshot[:, 0], snapshot[:, 1], snapshot[:, 2])\n",
    "\n",
    "            start_edges, end_edges = EDGES[:, 0], EDGES[:, 1]\n",
    "            lines = np.stack([snapshot[start_edges], snapshot[end_edges]], axis=1)\n",
    "            for lineplot, line in zip(self.lineplots, lines):\n",
    "                lineplot.set_data(line[:, 0], line[:, 1])\n",
    "                lineplot.set_3d_properties(line[:, 2]) \n",
    "\n",
    "            self.fig.canvas.draw_idle()\n",
    "\n",
    "            if frame == end_frame - 1:\n",
    "                self.ani.event_source.stop()\n",
    "\n",
    "            return self.scatter_plot, *self.lineplots\n",
    "\n",
    "        self.ani = FuncAnimation(self.fig, update, init_func=setup, frames=range(start_frame, end_frame), interval=1000/framerate, blit=False, cache_frame_data=False)\n",
    "        self.fig.show()\n",
    "\n",
    "\n",
    "#fig_anim = FigureAnimation(data)\n",
    "#fig_anim.start(start_frame=150, framerate=35)"
   ]
  },
  {
   "cell_type": "code",
   "execution_count": 51,
   "metadata": {},
   "outputs": [
    {
     "data": {
      "text/plain": [
       "((4866, 53, 3), (968, 30, 53, 3))"
      ]
     },
     "execution_count": 51,
     "metadata": {},
     "output_type": "execute_result"
    }
   ],
   "source": [
    "def split_data(data, window_size, stride):\n",
    "    # data: (n_frames, n_points, 3)\n",
    "    n_frames = data.shape[0]\n",
    "    n_points = data.shape[1]\n",
    "    n_channels = data.shape[2]\n",
    "\n",
    "    n_windows = (n_frames - window_size) // stride + 1\n",
    "    windows = np.zeros((n_windows, window_size, n_points, n_channels))\n",
    "    \n",
    "    for i in range(n_windows):\n",
    "        start = i * stride\n",
    "        end = start + window_size\n",
    "        windows[i] = data[start:end]\n",
    "\n",
    "    return windows\n",
    "\n",
    "data.shape, split_data(data, window_size=30, stride=5).shape"
   ]
  },
  {
   "cell_type": "code",
   "execution_count": null,
   "metadata": {},
   "outputs": [
    {
     "data": {
      "text/plain": [
       "(2148, 30, 53, 3)"
      ]
     },
     "execution_count": 118,
     "metadata": {},
     "output_type": "execute_result"
    }
   ],
   "source": [
    "def get_data_with_pattern(data_dir: Path, filenamn_pattern: str = \"mariel\", window_size: int = 30, stride: int = 5, normalize: bool = True):\n",
    "    all_data = []\n",
    "\n",
    "    for data_path in data_dir.glob(filenamn_pattern):\n",
    "        data_raw = np.load(data_path)\n",
    "        data = preprocess_data(data_raw, normalize=normalize)\n",
    "        \n",
    "        name = data_path.stem[len(\"mariel_\"):]\n",
    "        start_idx = START_IDX.get(name, 0)\n",
    "        data = data[start_idx:]\n",
    "\n",
    "        windows = split_data(data, window_size, stride)\n",
    "\n",
    "        all_data.append(windows)\n",
    "\n",
    "    all_data = np.concatenate(all_data, axis=0)\n",
    "    return all_data\n",
    "\n",
    "data_dir = Path(\"data\")\n",
    "all_data = get_data_with_pattern(data_dir, filenamn_pattern=\"mariel_better*\", window_size=30, stride=5, normalize=True)\n",
    "all_data.shape"
   ]
  },
  {
   "cell_type": "code",
   "execution_count": 119,
   "metadata": {},
   "outputs": [],
   "source": [
    "fig_anim = FigureAnimation(all_data[3])\n",
    "fig_anim.start(framerate=60)"
   ]
  },
  {
   "cell_type": "markdown",
   "metadata": {},
   "source": [
    "## Network"
   ]
  },
  {
   "cell_type": "code",
   "execution_count": 53,
   "metadata": {},
   "outputs": [],
   "source": [
    "# Pose Embedding\n",
    "\n",
    "from torch import nn\n",
    "\n",
    "class PoseEncoder(nn.Module):\n",
    "    def __init__(self, embedding_dim):\n",
    "        super().__init__()\n",
    "        \n",
    "        # Imput: (N, num_groups, 3)\n",
    "        # Output: (N, embedding_dim)\n",
    "\n",
    "        self.embedding = nn.Sequential(\n",
    "            nn.Linear(NUM_GROUPS * 3, 512),\n",
    "            nn.ReLU(),\n",
    "            nn.Linear(512, 256),\n",
    "            nn.ReLU(),\n",
    "            nn.Linear(256, embedding_dim)\n",
    "        )\n",
    "    \n",
    "    def forward(self, x):\n",
    "        return self.embedding(x)\n",
    "\n",
    "\n",
    "class PoseDecoder(nn.Module):\n",
    "    def __init__(self, embedding_dim):\n",
    "        super().__init__()\n",
    "\n",
    "        # Imput: (N, embedding_dim)\n",
    "        # Output: (N, num_groups, 3)\n",
    "\n",
    "        self.decoder = nn.Sequential(\n",
    "            nn.Linear(embedding_dim, 256),\n",
    "            nn.ReLU(),\n",
    "            nn.Linear(256, 512),\n",
    "            nn.ReLU(),\n",
    "            nn.Linear(512, NUM_GROUPS * 3),\n",
    "            nn.Tanh()\n",
    "        )\n",
    "    \n",
    "    def forward(self, x):\n",
    "        return self.decoder(x).view(-1, NUM_GROUPS, 3)\n",
    "\n",
    "class PoseAutoencoder(nn.Module):\n",
    "    def __init__(self, embedding_dim):\n",
    "        super().__init__()\n",
    "        self.encoder = PoseEncoder(embedding_dim)\n",
    "        self.decoder = PoseDecoder(embedding_dim)\n",
    "\n",
    "    def forward(self, x):\n",
    "        return self.decoder(self.encoder(x))\n"
   ]
  },
  {
   "cell_type": "code",
   "execution_count": null,
   "metadata": {},
   "outputs": [],
   "source": []
  }
 ],
 "metadata": {
  "kernelspec": {
   "display_name": "venv",
   "language": "python",
   "name": "python3"
  },
  "language_info": {
   "codemirror_mode": {
    "name": "ipython",
    "version": 3
   },
   "file_extension": ".py",
   "mimetype": "text/x-python",
   "name": "python",
   "nbconvert_exporter": "python",
   "pygments_lexer": "ipython3",
   "version": "3.12.9"
  }
 },
 "nbformat": 4,
 "nbformat_minor": 2
}
