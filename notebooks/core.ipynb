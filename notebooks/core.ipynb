{
 "cells": [
  {
   "cell_type": "markdown",
   "metadata": {},
   "source": [
    "## Visualize Data"
   ]
  },
  {
   "cell_type": "code",
   "execution_count": 8,
   "metadata": {},
   "outputs": [
    {
     "name": "stdout",
     "output_type": "stream",
     "text": [
      "shape (55, 4866, 3)\n",
      "dtype float64\n",
      "max 1.9273922443389893\n",
      "min -6.332875728607178\n",
      "1q -1.006934016942978\n",
      "2q -0.4554957449436188\n",
      "3q -0.042966997250914574\n",
      "mean -0.6010307200624114\n",
      "std 0.8776853231783209\n"
     ]
    }
   ],
   "source": [
    "from pathlib import Path\n",
    "import numpy as np\n",
    "\n",
    "data_path = Path(\"data/mariel_chunli.npy\")\n",
    "data_raw = np.load(data_path)\n",
    "\n",
    "def inspect_data(data):\n",
    "    print(\"shape\", data.shape)\n",
    "    print(\"dtype\", data.dtype)\n",
    "    print(\"max\", data.max())\n",
    "    print(\"min\", data.min())\n",
    "    print(\"1q\", np.percentile(data, 25))\n",
    "    print(\"2q\", np.percentile(data, 50))\n",
    "    print(\"3q\", np.percentile(data, 75))\n",
    "    print(\"mean\", data.mean())\n",
    "    print(\"std\", data.std())\n",
    "\n",
    "inspect_data(data_raw)"
   ]
  },
  {
   "cell_type": "code",
   "execution_count": 9,
   "metadata": {},
   "outputs": [
    {
     "data": {
      "text/plain": [
       "(58, 2)"
      ]
     },
     "execution_count": 9,
     "metadata": {},
     "output_type": "execute_result"
    }
   ],
   "source": [
    "# Taken from https://github.com/mariel-pettee/choreo-graph/blob/main/functions/load_data.py\n",
    "\n",
    "all_point_labels = ['ARIEL', 'C7', 'CLAV', 'LANK', 'LBHD', 'LBSH', 'LBWT', 'LELB', 'LFHD', 'LFRM', 'LFSH', 'LFWT', 'LHEL', 'LIEL', 'LIHAND', 'LIWR', 'LKNE', 'LKNI', 'LMT1', 'LMT5', 'LOHAND', 'LOWR', 'LSHN', 'LTHI', 'LTOE', 'LUPA', 'LabelingHips', 'MBWT', 'MFWT', 'RANK', 'RBHD', 'RBSH', 'RBWT', 'RELB', 'RFHD', 'RFRM', 'RFSH', 'RFWT', 'RHEL', 'RIEL', 'RIHAND', 'RIWR', 'RKNE', 'RKNI', 'RMT1', 'RMT5', 'ROHAND', 'ROWR', 'RSHN', 'RTHI', 'RTOE', 'RUPA', 'STRN', 'SolvingHips', 'T10']    \n",
    "bad_labels = ['SolvingHips', 'LabelingHips']\n",
    "point_labels = [label for label in all_point_labels if label not in bad_labels]\n",
    "\n",
    "skeleton_lines = [\n",
    "#     ( (start group), (end group) ),\n",
    "    ('LHEL', 'LTOE',), # toe to heel\n",
    "    ('RHEL', 'RTOE',),\n",
    "    ('LMT1', 'LMT5',), # horizontal line across foot\n",
    "    ('RMT1', 'RMT5',),   \n",
    "    ('LHEL', 'LMT1',), # heel to sides of feet\n",
    "    ('LHEL', 'LMT5',),\n",
    "    ('RHEL', 'RMT1',),\n",
    "    ('RHEL', 'RMT5',),\n",
    "    ('LTOE', 'LMT1',), # toe to sides of feet\n",
    "    ('LTOE', 'LMT5',),\n",
    "    ('RTOE', 'RMT1',),\n",
    "    ('RTOE', 'RMT5',),\n",
    "    ('LKNE', 'LHEL',), # heel to knee\n",
    "    ('RKNE', 'RHEL',),\n",
    "    ('LFWT', 'RBWT',), # connect pelvis\n",
    "    ('RFWT', 'LBWT',), \n",
    "    ('LFWT', 'RFWT',), \n",
    "    ('LBWT', 'RBWT',),\n",
    "    ('LFWT', 'LBWT',), \n",
    "    ('RFWT', 'RBWT',), \n",
    "    ('LFWT', 'LTHI',), # pelvis to thighs\n",
    "    ('RFWT', 'RTHI',), \n",
    "    ('LBWT', 'LTHI',), \n",
    "    ('RBWT', 'RTHI',), \n",
    "    ('LKNE', 'LTHI',), \n",
    "    ('RKNE', 'RTHI',), \n",
    "    ('CLAV', 'LFSH',), # clavicle to shoulders\n",
    "    ('CLAV', 'RFSH',), \n",
    "    ('STRN', 'LFSH',), # sternum & T10 (back sternum) to shoulders\n",
    "    ('STRN', 'RFSH',), \n",
    "    ('T10', 'LFSH',), \n",
    "    ('T10', 'RFSH',), \n",
    "    ('C7', 'LBSH',), # back clavicle to back shoulders\n",
    "    ('C7', 'RBSH',), \n",
    "    ('LFSH', 'LBSH',), # front shoulders to back shoulders\n",
    "    ('RFSH', 'RBSH',), \n",
    "    ('LFSH', 'RBSH',),\n",
    "    ('RFSH', 'LBSH',),\n",
    "    ('LFSH', 'LUPA',), # shoulders to upper arms\n",
    "    ('RFSH', 'RUPA',), \n",
    "    ('LBSH', 'LUPA',), \n",
    "    ('RBSH', 'RUPA',), \n",
    "    ('LIWR', 'LIHAND',), # wrist to hand\n",
    "    ('RIWR', 'RIHAND',),\n",
    "    ('LOWR', 'LOHAND',), \n",
    "    ('ROWR', 'ROHAND',),\n",
    "    ('LIWR', 'LOWR',), # across the wrist \n",
    "    ('RIWR', 'ROWR',), \n",
    "    ('LIHAND', 'LOHAND',), # across the palm \n",
    "    ('RIHAND', 'ROHAND',), \n",
    "    ('LFHD', 'LBHD',), # draw lines around circumference of the head\n",
    "    ('LBHD', 'RBHD',),\n",
    "    ('RBHD', 'RFHD',),\n",
    "    ('RFHD', 'LFHD',),\n",
    "    ('LFHD', 'ARIEL'), # connect circumference points to top of head\n",
    "    ('LBHD', 'ARIEL'),\n",
    "    ('RBHD', 'ARIEL'),\n",
    "    ('RFHD', 'ARIEL'),\n",
    "]\n",
    "\n",
    "point_idxs = {label: i for i, label in enumerate(point_labels)}\n",
    "edges = [(point_idxs[start], point_idxs[end]) for start, end in skeleton_lines]\n",
    "edges = np.array(edges)\n",
    "edges.shape"
   ]
  },
  {
   "cell_type": "code",
   "execution_count": 10,
   "metadata": {},
   "outputs": [
    {
     "data": {
      "text/plain": [
       "53"
      ]
     },
     "execution_count": 10,
     "metadata": {},
     "output_type": "execute_result"
    }
   ],
   "source": [
    "len(point_labels)"
   ]
  },
  {
   "cell_type": "markdown",
   "metadata": {},
   "source": [
    "First dimension is the edge group.\n",
    "Second is the frames for a given clip.\n",
    "Third is the XYZ coordinates in 3D space. \n",
    "\n",
    "We know the edge groups from [Pettee's previous project](https://github.com/mariel-pettee/choreography/blob/master/functions/functions.py), and we also know that groups 27 and 54 are bad edge groups. \n",
    "\n",
    "We reshape and mask those out. Additionally, we preprocess the data to be in the range -1 to 1."
   ]
  },
  {
   "cell_type": "code",
   "execution_count": 11,
   "metadata": {},
   "outputs": [
    {
     "name": "stdout",
     "output_type": "stream",
     "text": [
      "shape (4866, 53, 3)\n",
      "dtype float64\n",
      "max 1.0\n",
      "min -1.0\n",
      "1q -0.2738534668068461\n",
      "2q 0.3330744535997223\n",
      "3q 0.5042046208517127\n",
      "mean 0.15681260326528199\n",
      "std 0.4136803405246239\n"
     ]
    }
   ],
   "source": [
    "def preprocess_data(data, normalize=True):\n",
    "    bad_groups = [i for i, group in enumerate(all_point_labels) if group in bad_labels]\n",
    "    group_mask = np.ones(data.shape[0], dtype=bool)\n",
    "    group_mask[bad_groups] = False\n",
    "    data = data[group_mask]\n",
    "\n",
    "    data = data.swapaxes(0, 1)\n",
    "\n",
    "    if normalize:\n",
    "        min_val = data.min()\n",
    "        max_val = data.max()\n",
    "        data = (data - min_val) / (max_val - min_val) * 2 - 1\n",
    "\n",
    "    data[:, :,  2] *= -1        # invert z axis\n",
    "\n",
    "    return data\n",
    "\n",
    "data = preprocess_data(data_raw, normalize=True)\n",
    "inspect_data(data)"
   ]
  },
  {
   "cell_type": "code",
   "execution_count": 25,
   "metadata": {},
   "outputs": [],
   "source": [
    "%matplotlib QtAgg\n",
    "\n",
    "from matplotlib import pyplot as plt\n",
    "from matplotlib.animation import FuncAnimation\n",
    "from mpl_toolkits.mplot3d import Axes3D\n",
    "\n",
    "class FigureAnimation:\n",
    "    def __init__(self, data, edges):\n",
    "        self.data = data\n",
    "        self.edges = edges\n",
    "\n",
    "        self.fig = plt.figure()\n",
    "        self.ax = self.fig.add_subplot(projection='3d')\n",
    "\n",
    "        self.ax.set_xlim(data[:, :, 0].min(), data[:, :, 0].max())\n",
    "        self.ax.set_ylim(data[:, :, 1].min(), data[:, :, 1].max())\n",
    "        self.ax.set_zlim(data[:, :, 2].min(), data[:, :, 2].max())\n",
    "\n",
    "        self.scatter_plot = None\n",
    "        self.lineplots = None\n",
    "\n",
    "    def start(self, start_frame: int = 0, end_frame: int = -1, framerate: int = 20):\n",
    "        if end_frame == -1:\n",
    "            end_frame = self.data.shape[0]\n",
    "\n",
    "        def setup():\n",
    "            snapshot = self.data[start_frame]\n",
    "            self.scatter_plot = self.ax.scatter(snapshot[:, 0], snapshot[:, 1], snapshot[:, 2])\n",
    "\n",
    "            start_edges, end_edges = self.edges[:, 0], self.edges[:, 1]\n",
    "            lines = np.stack([snapshot[start_edges], snapshot[end_edges]], axis=1)\n",
    "            \n",
    "            self.lineplots = [self.ax.plot(line[:, 0], line[:, 1], line[:, 2], color='black')[0] for line in lines]\n",
    "\n",
    "            return self.scatter_plot, *self.lineplots\n",
    "\n",
    "        def update(frame):\n",
    "            snapshot = self.data[int(frame)]\n",
    "            self.scatter_plot._offsets3d = (snapshot[:, 0], snapshot[:, 1], snapshot[:, 2])\n",
    "\n",
    "            start_edges, end_edges = self.edges[:, 0], self.edges[:, 1]\n",
    "            lines = np.stack([snapshot[start_edges], snapshot[end_edges]], axis=1)\n",
    "            for lineplot, line in zip(self.lineplots, lines):\n",
    "                lineplot.set_data(line[:, 0], line[:, 1])\n",
    "                lineplot.set_3d_properties(line[:, 2]) \n",
    "\n",
    "            self.fig.canvas.draw_idle()\n",
    "\n",
    "            return self.scatter_plot, *self.lineplots\n",
    "\n",
    "        self.ani = FuncAnimation(self.fig, update, init_func=setup, frames=range(start_frame, end_frame), interval=1000/framerate, blit=False)\n",
    "        self.fig.show()\n",
    "\n",
    "\n",
    "fig_anim = FigureAnimation(data, edges)\n",
    "fig_anim.start(start_frame=150, framerate=60)"
   ]
  }
 ],
 "metadata": {
  "kernelspec": {
   "display_name": "venv",
   "language": "python",
   "name": "python3"
  },
  "language_info": {
   "codemirror_mode": {
    "name": "ipython",
    "version": 3
   },
   "file_extension": ".py",
   "mimetype": "text/x-python",
   "name": "python",
   "nbconvert_exporter": "python",
   "pygments_lexer": "ipython3",
   "version": "3.12.9"
  }
 },
 "nbformat": 4,
 "nbformat_minor": 2
}
